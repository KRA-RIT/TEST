{
 "metadata": {
  "language_info": {
   "codemirror_mode": {
    "name": "ipython",
    "version": 3
   },
   "file_extension": ".py",
   "mimetype": "text/x-python",
   "name": "python",
   "nbconvert_exporter": "python",
   "pygments_lexer": "ipython3",
   "version": "3.8.0-final"
  },
  "orig_nbformat": 2,
  "kernelspec": {
   "name": "python380jvsc74a57bd07a542ca580817fc4dd55327026e074e2fa0cd470fc5dee9350c2d8b13822db8d",
   "display_name": "Python 3.8.0 32-bit"
  },
  "metadata": {
   "interpreter": {
    "hash": "7a542ca580817fc4dd55327026e074e2fa0cd470fc5dee9350c2d8b13822db8d"
   }
  }
 },
 "nbformat": 4,
 "nbformat_minor": 2,
 "cells": [
  {
   "cell_type": "code",
   "execution_count": 1,
   "metadata": {},
   "outputs": [],
   "source": [
    "CP1 = r'C:\\Users\\411792\\Desktop\\AMA-FDB\\RDH-09846\\CP1.xls'\n",
    "CP2 = r'C:\\Users\\411792\\Desktop\\AMA-FDB\\RDH-09846\\CP2.xls'\n",
    "CP3 = r'C:\\Users\\411792\\Desktop\\AMA-FDB\\RDH-09846\\CP3.xls'\n",
    "out_path = r'C:\\Users\\411792\\Desktop\\AMA-FDB\\RDH-09846\\TEST.xlsx'"
   ]
  },
  {
   "cell_type": "code",
   "execution_count": 2,
   "metadata": {},
   "outputs": [],
   "source": [
    "import xlsxwriter\n",
    "import pandas as pd\n",
    "import numpy as np\n",
    "import matplotlib.pyplot as plt\n",
    "import seaborn as sns\n",
    "import os\n",
    "import openpyxl\n",
    "from openpyxl.chart import BarChart3D,Reference"
   ]
  },
  {
   "cell_type": "code",
   "execution_count": 3,
   "metadata": {},
   "outputs": [
    {
     "output_type": "error",
     "ename": "ImportError",
     "evalue": "Missing optional dependency 'xlrd'. Install xlrd >= 1.0.0 for Excel support Use pip or conda to install xlrd.",
     "traceback": [
      "\u001b[1;31m---------------------------------------------------------------------------\u001b[0m",
      "\u001b[1;31mImportError\u001b[0m                               Traceback (most recent call last)",
      "\u001b[1;32m<ipython-input-3-30ba3ea1b8e5>\u001b[0m in \u001b[0;36m<module>\u001b[1;34m\u001b[0m\n\u001b[1;32m----> 1\u001b[1;33m \u001b[0md1\u001b[0m \u001b[1;33m=\u001b[0m \u001b[0mpd\u001b[0m\u001b[1;33m.\u001b[0m\u001b[0mread_excel\u001b[0m\u001b[1;33m(\u001b[0m\u001b[0mCP1\u001b[0m\u001b[1;33m)\u001b[0m\u001b[1;33m\u001b[0m\u001b[1;33m\u001b[0m\u001b[0m\n\u001b[0m\u001b[0;32m      2\u001b[0m \u001b[0md2\u001b[0m \u001b[1;33m=\u001b[0m \u001b[0mpd\u001b[0m\u001b[1;33m.\u001b[0m\u001b[0mread_excel\u001b[0m\u001b[1;33m(\u001b[0m\u001b[0mCP2\u001b[0m\u001b[1;33m)\u001b[0m\u001b[1;33m\u001b[0m\u001b[1;33m\u001b[0m\u001b[0m\n\u001b[0;32m      3\u001b[0m \u001b[0md3\u001b[0m \u001b[1;33m=\u001b[0m \u001b[0mpd\u001b[0m\u001b[1;33m.\u001b[0m\u001b[0mread_excel\u001b[0m\u001b[1;33m(\u001b[0m\u001b[0mCP3\u001b[0m\u001b[1;33m)\u001b[0m\u001b[1;33m\u001b[0m\u001b[1;33m\u001b[0m\u001b[0m\n\u001b[0;32m      4\u001b[0m \u001b[1;31m#df = pd.merge(d1, d2, on=['Stage','Step','Recipe','Spec Name'], how='left')\u001b[0m\u001b[1;33m\u001b[0m\u001b[1;33m\u001b[0m\u001b[1;33m\u001b[0m\u001b[0m\n\u001b[0;32m      5\u001b[0m \u001b[0mdf\u001b[0m \u001b[1;33m=\u001b[0m \u001b[0mpd\u001b[0m\u001b[1;33m.\u001b[0m\u001b[0mconcat\u001b[0m\u001b[1;33m(\u001b[0m\u001b[1;33m[\u001b[0m\u001b[0md1\u001b[0m\u001b[1;33m,\u001b[0m \u001b[0md2\u001b[0m\u001b[1;33m,\u001b[0m \u001b[0md3\u001b[0m\u001b[1;33m]\u001b[0m\u001b[1;33m,\u001b[0m \u001b[0maxis\u001b[0m\u001b[1;33m=\u001b[0m\u001b[1;36m1\u001b[0m\u001b[1;33m)\u001b[0m\u001b[1;33m\u001b[0m\u001b[1;33m\u001b[0m\u001b[0m\n",
      "\u001b[1;32m~\\AppData\\Roaming\\Python\\Python38\\site-packages\\pandas\\util\\_decorators.py\u001b[0m in \u001b[0;36mwrapper\u001b[1;34m(*args, **kwargs)\u001b[0m\n\u001b[0;32m    297\u001b[0m                 )\n\u001b[0;32m    298\u001b[0m                 \u001b[0mwarnings\u001b[0m\u001b[1;33m.\u001b[0m\u001b[0mwarn\u001b[0m\u001b[1;33m(\u001b[0m\u001b[0mmsg\u001b[0m\u001b[1;33m,\u001b[0m \u001b[0mFutureWarning\u001b[0m\u001b[1;33m,\u001b[0m \u001b[0mstacklevel\u001b[0m\u001b[1;33m=\u001b[0m\u001b[0mstacklevel\u001b[0m\u001b[1;33m)\u001b[0m\u001b[1;33m\u001b[0m\u001b[1;33m\u001b[0m\u001b[0m\n\u001b[1;32m--> 299\u001b[1;33m             \u001b[1;32mreturn\u001b[0m \u001b[0mfunc\u001b[0m\u001b[1;33m(\u001b[0m\u001b[1;33m*\u001b[0m\u001b[0margs\u001b[0m\u001b[1;33m,\u001b[0m \u001b[1;33m**\u001b[0m\u001b[0mkwargs\u001b[0m\u001b[1;33m)\u001b[0m\u001b[1;33m\u001b[0m\u001b[1;33m\u001b[0m\u001b[0m\n\u001b[0m\u001b[0;32m    300\u001b[0m \u001b[1;33m\u001b[0m\u001b[0m\n\u001b[0;32m    301\u001b[0m         \u001b[1;32mreturn\u001b[0m \u001b[0mwrapper\u001b[0m\u001b[1;33m\u001b[0m\u001b[1;33m\u001b[0m\u001b[0m\n",
      "\u001b[1;32m~\\AppData\\Roaming\\Python\\Python38\\site-packages\\pandas\\io\\excel\\_base.py\u001b[0m in \u001b[0;36mread_excel\u001b[1;34m(io, sheet_name, header, names, index_col, usecols, squeeze, dtype, engine, converters, true_values, false_values, skiprows, nrows, na_values, keep_default_na, na_filter, verbose, parse_dates, date_parser, thousands, comment, skipfooter, convert_float, mangle_dupe_cols, storage_options)\u001b[0m\n\u001b[0;32m    334\u001b[0m     \u001b[1;32mif\u001b[0m \u001b[1;32mnot\u001b[0m \u001b[0misinstance\u001b[0m\u001b[1;33m(\u001b[0m\u001b[0mio\u001b[0m\u001b[1;33m,\u001b[0m \u001b[0mExcelFile\u001b[0m\u001b[1;33m)\u001b[0m\u001b[1;33m:\u001b[0m\u001b[1;33m\u001b[0m\u001b[1;33m\u001b[0m\u001b[0m\n\u001b[0;32m    335\u001b[0m         \u001b[0mshould_close\u001b[0m \u001b[1;33m=\u001b[0m \u001b[1;32mTrue\u001b[0m\u001b[1;33m\u001b[0m\u001b[1;33m\u001b[0m\u001b[0m\n\u001b[1;32m--> 336\u001b[1;33m         \u001b[0mio\u001b[0m \u001b[1;33m=\u001b[0m \u001b[0mExcelFile\u001b[0m\u001b[1;33m(\u001b[0m\u001b[0mio\u001b[0m\u001b[1;33m,\u001b[0m \u001b[0mstorage_options\u001b[0m\u001b[1;33m=\u001b[0m\u001b[0mstorage_options\u001b[0m\u001b[1;33m,\u001b[0m \u001b[0mengine\u001b[0m\u001b[1;33m=\u001b[0m\u001b[0mengine\u001b[0m\u001b[1;33m)\u001b[0m\u001b[1;33m\u001b[0m\u001b[1;33m\u001b[0m\u001b[0m\n\u001b[0m\u001b[0;32m    337\u001b[0m     \u001b[1;32melif\u001b[0m \u001b[0mengine\u001b[0m \u001b[1;32mand\u001b[0m \u001b[0mengine\u001b[0m \u001b[1;33m!=\u001b[0m \u001b[0mio\u001b[0m\u001b[1;33m.\u001b[0m\u001b[0mengine\u001b[0m\u001b[1;33m:\u001b[0m\u001b[1;33m\u001b[0m\u001b[1;33m\u001b[0m\u001b[0m\n\u001b[0;32m    338\u001b[0m         raise ValueError(\n",
      "\u001b[1;32m~\\AppData\\Roaming\\Python\\Python38\\site-packages\\pandas\\io\\excel\\_base.py\u001b[0m in \u001b[0;36m__init__\u001b[1;34m(self, path_or_buffer, engine, storage_options)\u001b[0m\n\u001b[0;32m   1129\u001b[0m         \u001b[0mself\u001b[0m\u001b[1;33m.\u001b[0m\u001b[0mstorage_options\u001b[0m \u001b[1;33m=\u001b[0m \u001b[0mstorage_options\u001b[0m\u001b[1;33m\u001b[0m\u001b[1;33m\u001b[0m\u001b[0m\n\u001b[0;32m   1130\u001b[0m \u001b[1;33m\u001b[0m\u001b[0m\n\u001b[1;32m-> 1131\u001b[1;33m         \u001b[0mself\u001b[0m\u001b[1;33m.\u001b[0m\u001b[0m_reader\u001b[0m \u001b[1;33m=\u001b[0m \u001b[0mself\u001b[0m\u001b[1;33m.\u001b[0m\u001b[0m_engines\u001b[0m\u001b[1;33m[\u001b[0m\u001b[0mengine\u001b[0m\u001b[1;33m]\u001b[0m\u001b[1;33m(\u001b[0m\u001b[0mself\u001b[0m\u001b[1;33m.\u001b[0m\u001b[0m_io\u001b[0m\u001b[1;33m,\u001b[0m \u001b[0mstorage_options\u001b[0m\u001b[1;33m=\u001b[0m\u001b[0mstorage_options\u001b[0m\u001b[1;33m)\u001b[0m\u001b[1;33m\u001b[0m\u001b[1;33m\u001b[0m\u001b[0m\n\u001b[0m\u001b[0;32m   1132\u001b[0m \u001b[1;33m\u001b[0m\u001b[0m\n\u001b[0;32m   1133\u001b[0m     \u001b[1;32mdef\u001b[0m \u001b[0m__fspath__\u001b[0m\u001b[1;33m(\u001b[0m\u001b[0mself\u001b[0m\u001b[1;33m)\u001b[0m\u001b[1;33m:\u001b[0m\u001b[1;33m\u001b[0m\u001b[1;33m\u001b[0m\u001b[0m\n",
      "\u001b[1;32m~\\AppData\\Roaming\\Python\\Python38\\site-packages\\pandas\\io\\excel\\_xlrd.py\u001b[0m in \u001b[0;36m__init__\u001b[1;34m(self, filepath_or_buffer, storage_options)\u001b[0m\n\u001b[0;32m     22\u001b[0m         \"\"\"\n\u001b[0;32m     23\u001b[0m         \u001b[0merr_msg\u001b[0m \u001b[1;33m=\u001b[0m \u001b[1;34m\"Install xlrd >= 1.0.0 for Excel support\"\u001b[0m\u001b[1;33m\u001b[0m\u001b[1;33m\u001b[0m\u001b[0m\n\u001b[1;32m---> 24\u001b[1;33m         \u001b[0mimport_optional_dependency\u001b[0m\u001b[1;33m(\u001b[0m\u001b[1;34m\"xlrd\"\u001b[0m\u001b[1;33m,\u001b[0m \u001b[0mextra\u001b[0m\u001b[1;33m=\u001b[0m\u001b[0merr_msg\u001b[0m\u001b[1;33m)\u001b[0m\u001b[1;33m\u001b[0m\u001b[1;33m\u001b[0m\u001b[0m\n\u001b[0m\u001b[0;32m     25\u001b[0m         \u001b[0msuper\u001b[0m\u001b[1;33m(\u001b[0m\u001b[1;33m)\u001b[0m\u001b[1;33m.\u001b[0m\u001b[0m__init__\u001b[0m\u001b[1;33m(\u001b[0m\u001b[0mfilepath_or_buffer\u001b[0m\u001b[1;33m,\u001b[0m \u001b[0mstorage_options\u001b[0m\u001b[1;33m=\u001b[0m\u001b[0mstorage_options\u001b[0m\u001b[1;33m)\u001b[0m\u001b[1;33m\u001b[0m\u001b[1;33m\u001b[0m\u001b[0m\n\u001b[0;32m     26\u001b[0m \u001b[1;33m\u001b[0m\u001b[0m\n",
      "\u001b[1;32m~\\AppData\\Roaming\\Python\\Python38\\site-packages\\pandas\\compat\\_optional.py\u001b[0m in \u001b[0;36mimport_optional_dependency\u001b[1;34m(name, extra, raise_on_missing, on_version)\u001b[0m\n\u001b[0;32m    107\u001b[0m     \u001b[1;32mexcept\u001b[0m \u001b[0mImportError\u001b[0m\u001b[1;33m:\u001b[0m\u001b[1;33m\u001b[0m\u001b[1;33m\u001b[0m\u001b[0m\n\u001b[0;32m    108\u001b[0m         \u001b[1;32mif\u001b[0m \u001b[0mraise_on_missing\u001b[0m\u001b[1;33m:\u001b[0m\u001b[1;33m\u001b[0m\u001b[1;33m\u001b[0m\u001b[0m\n\u001b[1;32m--> 109\u001b[1;33m             \u001b[1;32mraise\u001b[0m \u001b[0mImportError\u001b[0m\u001b[1;33m(\u001b[0m\u001b[0mmsg\u001b[0m\u001b[1;33m)\u001b[0m \u001b[1;32mfrom\u001b[0m \u001b[1;32mNone\u001b[0m\u001b[1;33m\u001b[0m\u001b[1;33m\u001b[0m\u001b[0m\n\u001b[0m\u001b[0;32m    110\u001b[0m         \u001b[1;32melse\u001b[0m\u001b[1;33m:\u001b[0m\u001b[1;33m\u001b[0m\u001b[1;33m\u001b[0m\u001b[0m\n\u001b[0;32m    111\u001b[0m             \u001b[1;32mreturn\u001b[0m \u001b[1;32mNone\u001b[0m\u001b[1;33m\u001b[0m\u001b[1;33m\u001b[0m\u001b[0m\n",
      "\u001b[1;31mImportError\u001b[0m: Missing optional dependency 'xlrd'. Install xlrd >= 1.0.0 for Excel support Use pip or conda to install xlrd."
     ]
    }
   ],
   "source": [
    "d1 = pd.read_excel(CP1)\n",
    "d2 = pd.read_excel(CP2)\n",
    "d3 = pd.read_excel(CP3)\n",
    "#df = pd.merge(d1, d2, on=['Stage','Step','Recipe','Spec Name'], how='left')\n",
    "df = pd.concat([d1, d2, d3], axis=1)\n",
    "df = df.T.drop_duplicates().T\n",
    "df = df.drop(['Remarks'], axis=1)\n",
    "df['Result'] = (df.iloc[:, 5:].values == df.iloc[:, 4:5].values).all(axis=1).astype(int)\n",
    "#df['Result'] = (df.iloc[:, 6:16].values == df[['BR 220709']].values).all(axis=1).astype(bool)\n",
    "df"
   ]
  },
  {
   "cell_type": "code",
   "execution_count": 137,
   "metadata": {},
   "outputs": [
    {
     "output_type": "execute_result",
     "data": {
      "text/plain": [
       "                Stage              Step                  Recipe  \\\n",
       "1    BRS LEVEL SLIDER  BRS LEVEL SLIDER                    J701   \n",
       "3    BRS LEVEL SLIDER  BRS LEVEL SLIDER                    J701   \n",
       "4    BRS LEVEL SLIDER  BRS LEVEL SLIDER                    J701   \n",
       "5    BRS LEVEL SLIDER  BRS LEVEL SLIDER                    J701   \n",
       "7    BRS LEVEL SLIDER  BRS LEVEL SLIDER                    J701   \n",
       "..                ...               ...                     ...   \n",
       "483           D_P_ATS           D_P_ATS  ATS_FDBPresortSPI_v1_P   \n",
       "484           D_P_ATS           D_P_ATS  ATS_FDBPresortSPI_v1_P   \n",
       "485           D_P_ATS           D_P_ATS  ATS_FDBPresortSPI_v1_P   \n",
       "487   D_P_SFV200X_v35         D_P_SFAVI       FDB_SFAVI_VTP_v16   \n",
       "490   D_P_ShipPrep_v2       D_P_ShipLot     FDB_HAMR_Shiplot_v2   \n",
       "\n",
       "            Spec Name BR 220709 BR 222005 BR 222006 BR 222007 BR 222008  \\\n",
       "1          ActiveXdcr        01        00        00        00        00   \n",
       "3    AutoPTRSnpFile_P    J7.SNP    J3.SNP    J3.SNP    J3.SNP    J3.SNP   \n",
       "4            BONumber     66868     73888     73889     73890     73891   \n",
       "5             BOSysID  12383738  12685482  12685483  12685484  12685485   \n",
       "7            BRNumber      0494      2005      2006      2007      2008   \n",
       "..                ...       ...       ...       ...       ...       ...   \n",
       "483       VNoiseMax_P       NaN       NaN       NaN       NaN       NaN   \n",
       "484       VNoiseMin_P       NaN       NaN       NaN       NaN       NaN   \n",
       "485       VnoiseTAC_P       NaN       NaN       NaN       NaN       NaN   \n",
       "487       SFAVI_VTP_P       NaN       NaN       NaN       NaN       NaN   \n",
       "490      SCMRemarks_P       NaN       NaN       NaN       NaN       NaN   \n",
       "\n",
       "    BR 222009 BR 222010 BR 222012 BR 222013 BR 222014 BR 222015 BR 222016  \\\n",
       "1          01        01        01        01        01        01        01   \n",
       "3      J3.SNP    J3.SNP    J3.SNP    J3.SNP    J3.SNP    J3.SNP    J3.SNP   \n",
       "4       73899     73892     73893     73894     73895     73897     73898   \n",
       "5    12685493  12685486  12685487  12685488  12685489  12685491  12685492   \n",
       "7        2009      2010      2012      2013      2014      2015      2016   \n",
       "..        ...       ...       ...       ...       ...       ...       ...   \n",
       "483       NaN       NaN       NaN       NaN       NaN       NaN       NaN   \n",
       "484       NaN       NaN       NaN       NaN       NaN       NaN       NaN   \n",
       "485       NaN       NaN       NaN       NaN       NaN       NaN       NaN   \n",
       "487       NaN       NaN       NaN       NaN       NaN       NaN       NaN   \n",
       "490       NaN       NaN       NaN       NaN       NaN       NaN       NaN   \n",
       "\n",
       "     Result  \n",
       "1         0  \n",
       "3         0  \n",
       "4         0  \n",
       "5         0  \n",
       "7         0  \n",
       "..      ...  \n",
       "483       0  \n",
       "484       0  \n",
       "485       0  \n",
       "487       0  \n",
       "490       0  \n",
       "\n",
       "[283 rows x 17 columns]"
      ],
      "text/html": "<div>\n<style scoped>\n    .dataframe tbody tr th:only-of-type {\n        vertical-align: middle;\n    }\n\n    .dataframe tbody tr th {\n        vertical-align: top;\n    }\n\n    .dataframe thead th {\n        text-align: right;\n    }\n</style>\n<table border=\"1\" class=\"dataframe\">\n  <thead>\n    <tr style=\"text-align: right;\">\n      <th></th>\n      <th>Stage</th>\n      <th>Step</th>\n      <th>Recipe</th>\n      <th>Spec Name</th>\n      <th>BR 220709</th>\n      <th>BR 222005</th>\n      <th>BR 222006</th>\n      <th>BR 222007</th>\n      <th>BR 222008</th>\n      <th>BR 222009</th>\n      <th>BR 222010</th>\n      <th>BR 222012</th>\n      <th>BR 222013</th>\n      <th>BR 222014</th>\n      <th>BR 222015</th>\n      <th>BR 222016</th>\n      <th>Result</th>\n    </tr>\n  </thead>\n  <tbody>\n    <tr>\n      <th>1</th>\n      <td>BRS LEVEL SLIDER</td>\n      <td>BRS LEVEL SLIDER</td>\n      <td>J701</td>\n      <td>ActiveXdcr</td>\n      <td>01</td>\n      <td>00</td>\n      <td>00</td>\n      <td>00</td>\n      <td>00</td>\n      <td>01</td>\n      <td>01</td>\n      <td>01</td>\n      <td>01</td>\n      <td>01</td>\n      <td>01</td>\n      <td>01</td>\n      <td>0</td>\n    </tr>\n    <tr>\n      <th>3</th>\n      <td>BRS LEVEL SLIDER</td>\n      <td>BRS LEVEL SLIDER</td>\n      <td>J701</td>\n      <td>AutoPTRSnpFile_P</td>\n      <td>J7.SNP</td>\n      <td>J3.SNP</td>\n      <td>J3.SNP</td>\n      <td>J3.SNP</td>\n      <td>J3.SNP</td>\n      <td>J3.SNP</td>\n      <td>J3.SNP</td>\n      <td>J3.SNP</td>\n      <td>J3.SNP</td>\n      <td>J3.SNP</td>\n      <td>J3.SNP</td>\n      <td>J3.SNP</td>\n      <td>0</td>\n    </tr>\n    <tr>\n      <th>4</th>\n      <td>BRS LEVEL SLIDER</td>\n      <td>BRS LEVEL SLIDER</td>\n      <td>J701</td>\n      <td>BONumber</td>\n      <td>66868</td>\n      <td>73888</td>\n      <td>73889</td>\n      <td>73890</td>\n      <td>73891</td>\n      <td>73899</td>\n      <td>73892</td>\n      <td>73893</td>\n      <td>73894</td>\n      <td>73895</td>\n      <td>73897</td>\n      <td>73898</td>\n      <td>0</td>\n    </tr>\n    <tr>\n      <th>5</th>\n      <td>BRS LEVEL SLIDER</td>\n      <td>BRS LEVEL SLIDER</td>\n      <td>J701</td>\n      <td>BOSysID</td>\n      <td>12383738</td>\n      <td>12685482</td>\n      <td>12685483</td>\n      <td>12685484</td>\n      <td>12685485</td>\n      <td>12685493</td>\n      <td>12685486</td>\n      <td>12685487</td>\n      <td>12685488</td>\n      <td>12685489</td>\n      <td>12685491</td>\n      <td>12685492</td>\n      <td>0</td>\n    </tr>\n    <tr>\n      <th>7</th>\n      <td>BRS LEVEL SLIDER</td>\n      <td>BRS LEVEL SLIDER</td>\n      <td>J701</td>\n      <td>BRNumber</td>\n      <td>0494</td>\n      <td>2005</td>\n      <td>2006</td>\n      <td>2007</td>\n      <td>2008</td>\n      <td>2009</td>\n      <td>2010</td>\n      <td>2012</td>\n      <td>2013</td>\n      <td>2014</td>\n      <td>2015</td>\n      <td>2016</td>\n      <td>0</td>\n    </tr>\n    <tr>\n      <th>...</th>\n      <td>...</td>\n      <td>...</td>\n      <td>...</td>\n      <td>...</td>\n      <td>...</td>\n      <td>...</td>\n      <td>...</td>\n      <td>...</td>\n      <td>...</td>\n      <td>...</td>\n      <td>...</td>\n      <td>...</td>\n      <td>...</td>\n      <td>...</td>\n      <td>...</td>\n      <td>...</td>\n      <td>...</td>\n    </tr>\n    <tr>\n      <th>483</th>\n      <td>D_P_ATS</td>\n      <td>D_P_ATS</td>\n      <td>ATS_FDBPresortSPI_v1_P</td>\n      <td>VNoiseMax_P</td>\n      <td>NaN</td>\n      <td>NaN</td>\n      <td>NaN</td>\n      <td>NaN</td>\n      <td>NaN</td>\n      <td>NaN</td>\n      <td>NaN</td>\n      <td>NaN</td>\n      <td>NaN</td>\n      <td>NaN</td>\n      <td>NaN</td>\n      <td>NaN</td>\n      <td>0</td>\n    </tr>\n    <tr>\n      <th>484</th>\n      <td>D_P_ATS</td>\n      <td>D_P_ATS</td>\n      <td>ATS_FDBPresortSPI_v1_P</td>\n      <td>VNoiseMin_P</td>\n      <td>NaN</td>\n      <td>NaN</td>\n      <td>NaN</td>\n      <td>NaN</td>\n      <td>NaN</td>\n      <td>NaN</td>\n      <td>NaN</td>\n      <td>NaN</td>\n      <td>NaN</td>\n      <td>NaN</td>\n      <td>NaN</td>\n      <td>NaN</td>\n      <td>0</td>\n    </tr>\n    <tr>\n      <th>485</th>\n      <td>D_P_ATS</td>\n      <td>D_P_ATS</td>\n      <td>ATS_FDBPresortSPI_v1_P</td>\n      <td>VnoiseTAC_P</td>\n      <td>NaN</td>\n      <td>NaN</td>\n      <td>NaN</td>\n      <td>NaN</td>\n      <td>NaN</td>\n      <td>NaN</td>\n      <td>NaN</td>\n      <td>NaN</td>\n      <td>NaN</td>\n      <td>NaN</td>\n      <td>NaN</td>\n      <td>NaN</td>\n      <td>0</td>\n    </tr>\n    <tr>\n      <th>487</th>\n      <td>D_P_SFV200X_v35</td>\n      <td>D_P_SFAVI</td>\n      <td>FDB_SFAVI_VTP_v16</td>\n      <td>SFAVI_VTP_P</td>\n      <td>NaN</td>\n      <td>NaN</td>\n      <td>NaN</td>\n      <td>NaN</td>\n      <td>NaN</td>\n      <td>NaN</td>\n      <td>NaN</td>\n      <td>NaN</td>\n      <td>NaN</td>\n      <td>NaN</td>\n      <td>NaN</td>\n      <td>NaN</td>\n      <td>0</td>\n    </tr>\n    <tr>\n      <th>490</th>\n      <td>D_P_ShipPrep_v2</td>\n      <td>D_P_ShipLot</td>\n      <td>FDB_HAMR_Shiplot_v2</td>\n      <td>SCMRemarks_P</td>\n      <td>NaN</td>\n      <td>NaN</td>\n      <td>NaN</td>\n      <td>NaN</td>\n      <td>NaN</td>\n      <td>NaN</td>\n      <td>NaN</td>\n      <td>NaN</td>\n      <td>NaN</td>\n      <td>NaN</td>\n      <td>NaN</td>\n      <td>NaN</td>\n      <td>0</td>\n    </tr>\n  </tbody>\n</table>\n<p>283 rows × 17 columns</p>\n</div>"
     },
     "metadata": {},
     "execution_count": 137
    }
   ],
   "source": [
    "dy = df.loc[df['Result'] == 0]\n",
    "dy"
   ]
  },
  {
   "cell_type": "code",
   "execution_count": 134,
   "metadata": {},
   "outputs": [],
   "source": [
    "#writer = pd.ExcelWriter(out_path, engine='xlsxwriter')\n",
    "#df.to_excel(writer, sheet_name='ALL', index=None)\n",
    "#writer.save()"
   ]
  }
 ]
}