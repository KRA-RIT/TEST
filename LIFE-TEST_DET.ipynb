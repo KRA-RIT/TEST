{
 "metadata": {
  "language_info": {
   "codemirror_mode": {
    "name": "ipython",
    "version": 3
   },
   "file_extension": ".py",
   "mimetype": "text/x-python",
   "name": "python",
   "nbconvert_exporter": "python",
   "pygments_lexer": "ipython3",
   "version": "3.8.8-final"
  },
  "orig_nbformat": 2,
  "kernelspec": {
   "name": "python3",
   "display_name": "Python 3.8.8 64-bit (conda)",
   "metadata": {
    "interpreter": {
     "hash": "97ae724bfa85b9b34df7982b8bb8c7216f435b92902d749e4263f71162bea840"
    }
   }
  }
 },
 "nbformat": 4,
 "nbformat_minor": 2,
 "cells": [
  {
   "cell_type": "code",
   "execution_count": 72,
   "metadata": {},
   "outputs": [],
   "source": [
    "RAW_DATA = r'C:\\Users\\411792\\Desktop\\LIFE_TEST_DATA\\V4L_AMA-07008_THT3702-3_85C.csv'\n",
    "out_path = r'C:\\Users\\411792\\Desktop\\LIFE_TEST_DATA\\V4L_AMA-07008_THT3702-3_85C.xlsx'"
   ]
  },
  {
   "cell_type": "code",
   "execution_count": 73,
   "metadata": {},
   "outputs": [],
   "source": [
    "import xlsxwriter\n",
    "import pandas as pd\n",
    "import numpy as np\n",
    "import matplotlib.pyplot as plt\n",
    "import seaborn as sns\n",
    "import os\n",
    "import openpyxl\n",
    "from openpyxl.chart import BarChart3D,Reference"
   ]
  },
  {
   "cell_type": "code",
   "execution_count": 74,
   "metadata": {},
   "outputs": [],
   "source": [
    "df = pd.read_csv(RAW_DATA)\n",
    "df = df.sort_values(['Magnet','Head'])\n",
    "grouped_df = df.groupby(['Magnet','Head']).first()\n",
    "df = pd.merge(df, grouped_df, on=['Magnet','Head'] , suffixes=('','_REF'))\n",
    "df['TTF'] = df.groupby(['Magnet','Head'])['StressTimeInc'].cumsum()/60\n",
    "df['PCT_CNG'] = (df['Ohms']/df['Ohms_REF'] - 1)*100\n",
    "df['P/F Status'] = np.where(abs(df['PCT_CNG'])>=20,1,0)\n",
    "df['P/F Status'] = df.groupby(['Magnet','Head'])['P/F Status'].cumsum()\n",
    "df['P/F Status'] = np.where(df['Head']!=df['Head'].shift(),0,np.where(df['Head']!=df['Head'].shift(-1),1,np.where(df['P/F Status']>0,1,0)))\n",
    "df['P/F Flag (10%)'] = np.where(df['Head']!=df['Head'].shift(),0,np.where(df['P/F Status']!=df['P/F Status'].shift(),1,0))\n",
    "df['F/S'] = np.where((df['P/F Flag (10%)']==1)&(abs(df['PCT_CNG'])>=20),'F','S')\n",
    "df['SBR'] = np.where(df['Magnet']<14,'THT3702','THT3703')\n",
    "df = df[['HeadID','Date','MagnetTemp','Magnet','Head','Volts','mA','Carrier','StressTimeInc','StressVolts','StressOhms','TTF','Ohms','Ohms_REF','PCT_CNG','P/F Status','P/F Flag (10%)','F/S','SBR']]\n",
    "\n",
    "dy = df.loc[df['P/F Flag (10%)'] == 1]\n",
    "table = pd.pivot_table(dy, values='HeadID', index=['F/S','TTF'], columns=['SBR','StressVolts'], aggfunc='count', margins=False)"
   ]
  },
  {
   "cell_type": "code",
   "execution_count": 75,
   "metadata": {},
   "outputs": [],
   "source": [
    "writer = pd.ExcelWriter(out_path, engine='xlsxwriter')\n",
    "df.to_excel(writer, sheet_name='ALL', index=None)\n",
    "table.to_excel(writer, sheet_name='SUM')\n",
    "dy.to_excel(writer, sheet_name='TTF')\n",
    "writer.save()"
   ]
  }
 ]
}