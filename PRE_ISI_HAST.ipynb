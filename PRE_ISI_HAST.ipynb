{
 "metadata": {
  "language_info": {
   "codemirror_mode": {
    "name": "ipython",
    "version": 3
   },
   "file_extension": ".py",
   "mimetype": "text/x-python",
   "name": "python",
   "nbconvert_exporter": "python",
   "pygments_lexer": "ipython3",
   "version": "3.8.5-final"
  },
  "orig_nbformat": 2,
  "kernelspec": {
   "name": "python3",
   "display_name": "Python 3"
  }
 },
 "nbformat": 4,
 "nbformat_minor": 2,
 "cells": [
  {
   "cell_type": "code",
   "execution_count": null,
   "metadata": {},
   "outputs": [],
   "source": [
    "import xlsxwriter\n",
    "import pandas as pd\n",
    "import numpy as np\n",
    "import matplotlib.pyplot as plt\n",
    "import seaborn as sns"
   ]
  },
  {
   "cell_type": "code",
   "execution_count": null,
   "metadata": {},
   "outputs": [],
   "source": [
    "pre=pd.read_csv(r'C:\\HGA_ISI_ANALYSIS\\PRE.csv')\n",
    "pre['Hd&Part ID'] = pre['Hd']+pre['Part ID']\n",
    "grouppid = pre.groupby('Hd&Part ID')\n",
    "pre=grouppid[['Hd','Part ID','SBR','RESISTANCE','AMPLITUDE','ASYMETRY','BARK_JMP','BARK_JMP_UV','HYSTERESIS','SLOPE','SMANMAX_MAX','SMANAMP_AVG','SMANRMS_AVG','SMAN_NORM']].tail(1)\n"
   ]
  },
  {
   "cell_type": "code",
   "execution_count": null,
   "metadata": {},
   "outputs": [],
   "source": [
    "prescreen_sn = pre.loc[(pre['RESISTANCE'] < 100)|(pre['RESISTANCE'] > 1000)]\n",
    "pre = pre.loc[(pre['RESISTANCE'] > 100)&(pre['RESISTANCE'] < 1000)]"
   ]
  },
  {
   "cell_type": "code",
   "execution_count": null,
   "metadata": {},
   "outputs": [],
   "source": [
    "f, axes = plt.subplots(1, 2)\n",
    "\n",
    "sns.boxplot(  y=\"SMANRMS_AVG\", x= \"SBR\", data=pre , orient='v' , ax=axes[0] , palette=\"colorblind\", hue=pre['Hd'])\n",
    "sns.stripplot(  y=\"SMANRMS_AVG\", x= \"SBR\", data=pre , orient='v' , ax=axes[0] , jitter=True,\n",
    "                   dodge=True, \n",
    "                   marker='o', \n",
    "                   alpha=1,\n",
    "                   hue=pre['Hd'],\n",
    "                   color='black')\n",
    "sns.boxplot(  y=\"SMAN_NORM\", x= \"SBR\", data=pre , orient='v' , ax=axes[1] , palette=\"colorblind\", hue=pre['Hd'])\n",
    "sns.stripplot(  y=\"SMAN_NORM\", x= \"SBR\", data=pre , orient='v' , ax=axes[1] , jitter=True,\n",
    "                   dodge=True, \n",
    "                   marker='o', \n",
    "                   alpha=1,\n",
    "                   hue=pre['Hd'],\n",
    "                   color='black')\n",
    "\n",
    "f, axes = plt.subplots(1, 2)\n",
    "\n",
    "sns.boxplot(  y=\"SMANMAX_MAX\", x= \"SBR\", data=pre , orient='v' , ax=axes[0] , palette=\"colorblind\", hue=pre['Hd'])\n",
    "sns.stripplot(  y=\"SMANMAX_MAX\", x= \"SBR\", data=pre , orient='v' , ax=axes[0] , jitter=True,\n",
    "                   dodge=True, \n",
    "                   marker='o', \n",
    "                   alpha=1,\n",
    "                   hue=pre['Hd'],\n",
    "                   color='black')\n",
    "sns.boxplot(  y=\"SMANAMP_AVG\", x= \"SBR\", data=pre , orient='v' , ax=axes[1] , palette=\"colorblind\", hue=pre['Hd'])\n",
    "sns.stripplot(  y=\"SMANAMP_AVG\", x= \"SBR\", data=pre , orient='v' , ax=axes[1] , jitter=True,\n",
    "                   dodge=True, \n",
    "                   marker='o', \n",
    "                   alpha=1,\n",
    "                   hue=pre['Hd'],\n",
    "                   color='black')\n",
    "\n",
    "f, axes = plt.subplots(1, 2)\n",
    "\n",
    "sns.boxplot(  y=\"HYSTERESIS\", x= \"SBR\", data=pre , orient='v' , ax=axes[0] , palette=\"colorblind\", hue=pre['Hd'])\n",
    "sns.stripplot(  y=\"HYSTERESIS\", x= \"SBR\", data=pre , orient='v' , ax=axes[0] , jitter=True,\n",
    "                   dodge=True, \n",
    "                   marker='o', \n",
    "                   alpha=1,\n",
    "                   hue=pre['Hd'],\n",
    "                   color='black')\n",
    "sns.boxplot(  y=\"SLOPE\", x= \"SBR\", data=pre , orient='v' , ax=axes[1] , palette=\"colorblind\", hue=pre['Hd'])\n",
    "sns.stripplot(  y=\"SLOPE\", x= \"SBR\", data=pre , orient='v' , ax=axes[1] , jitter=True,\n",
    "                   dodge=True, \n",
    "                   marker='o', \n",
    "                   alpha=1,\n",
    "                   hue=pre['Hd'],\n",
    "                   color='black')\n",
    "\n",
    "f, axes = plt.subplots(1, 2)\n",
    "\n",
    "sns.boxplot(  y=\"ASYMETRY\", x= \"SBR\", data=pre , orient='v' , ax=axes[0] , palette=\"colorblind\", hue=pre['Hd'])\n",
    "sns.stripplot(  y=\"ASYMETRY\", x= \"SBR\", data=pre , orient='v' , ax=axes[0] , jitter=True,\n",
    "                   dodge=True, \n",
    "                   marker='o', \n",
    "                   alpha=1,\n",
    "                   hue=pre['Hd'],\n",
    "                   color='black')\n",
    "sns.boxplot(  y=\"BARK_JMP\", x= \"SBR\", data=pre , orient='v' , ax=axes[1] , palette=\"colorblind\", hue=pre['Hd'])\n",
    "sns.stripplot(  y=\"BARK_JMP\", x= \"SBR\", data=pre , orient='v' , ax=axes[1] , jitter=True,\n",
    "                   dodge=True, \n",
    "                   marker='o', \n",
    "                   alpha=1,\n",
    "                   hue=pre['Hd'],\n",
    "                   color='black')\n",
    "\n",
    "f, axes = plt.subplots(1, 2)\n",
    "\n",
    "sns.boxplot(  y=\"RESISTANCE\", x= \"SBR\", data=pre , orient='v' , ax=axes[0] , palette=\"colorblind\", hue=pre['Hd'])\n",
    "sns.stripplot(  y=\"RESISTANCE\", x= \"SBR\", data=pre , orient='v' , ax=axes[0] , jitter=True,\n",
    "                   dodge=True, \n",
    "                   marker='o', \n",
    "                   alpha=1,\n",
    "                   hue=pre['Hd'],\n",
    "                   color='black')\n",
    "sns.boxplot(  y=\"AMPLITUDE\", x= \"SBR\", data=pre,  orient='v' , ax=axes[1] , palette=\"colorblind\", hue=pre['Hd'])\n",
    "sns.stripplot(  y=\"AMPLITUDE\", x= \"SBR\", data=pre , orient='v' , ax=axes[1] , jitter=True,\n",
    "                   dodge=True, \n",
    "                   marker='o', \n",
    "                   alpha=1,\n",
    "                   hue=pre['Hd'],\n",
    "                   color='black')"
   ]
  },
  {
   "cell_type": "code",
   "execution_count": null,
   "metadata": {},
   "outputs": [],
   "source": [
    "fig, axes = plt.subplots(nrows=2, ncols=5)\n",
    "\n",
    "pre.boxplot(column='RESISTANCE', by=['SBR','Hd'], ax=axes[0,0])\n",
    "pre.boxplot(column='AMPLITUDE', by=['SBR','Hd'], ax=axes[0,1])\n",
    "pre.boxplot(column='ASYMETRY', by=['SBR','Hd'], ax=axes[0,2])\n",
    "pre.boxplot(column='BARK_JMP', by=['SBR','Hd'], ax=axes[0,3])\n",
    "pre.boxplot(column='HYSTERESIS', by=['SBR','Hd'], ax=axes[0,4])\n",
    "pre.boxplot(column='SLOPE', by=['SBR','Hd'], ax=axes[1,0])\n",
    "pre.boxplot(column='SMANMAX_MAX', by=['SBR','Hd'], ax=axes[1,1])\n",
    "pre.boxplot(column='SMANAMP_AVG', by=['SBR','Hd'], ax=axes[1,2])\n",
    "pre.boxplot(column='SMANRMS_AVG', by=['SBR','Hd'], ax=axes[1,3])\n",
    "pre.boxplot(column='SMAN_NORM', by=['SBR','Hd'], ax=axes[1,4])"
   ]
  },
  {
   "cell_type": "code",
   "execution_count": null,
   "metadata": {},
   "outputs": [],
   "source": [
    "PRE_SUM = pre.groupby(['SBR','Hd']).agg({'RESISTANCE': ['count','mean','std'],'AMPLITUDE': ['mean','std'],'ASYMETRY': ['mean','std'],'BARK_JMP': ['mean','std'],'HYSTERESIS': ['mean','std'],'SLOPE': ['mean','std'],'SMANMAX_MAX': ['mean','std'],'SMANAMP_AVG': ['mean','std'],'SMANRMS_AVG': ['mean','std'],'SMAN_NORM': ['mean','std']})\n",
    "\n",
    "summ = pd.DataFrame(PRE_SUM)\n",
    "summ = summ.T"
   ]
  }
 ]
}