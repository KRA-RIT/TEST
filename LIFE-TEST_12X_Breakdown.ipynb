{
 "metadata": {
  "language_info": {
   "codemirror_mode": {
    "name": "ipython",
    "version": 3
   },
   "file_extension": ".py",
   "mimetype": "text/x-python",
   "name": "python",
   "nbconvert_exporter": "python",
   "pygments_lexer": "ipython3",
   "version": "3.8.0"
  },
  "orig_nbformat": 2,
  "kernelspec": {
   "name": "python3",
   "display_name": "Python 3.8.0 32-bit"
  },
  "metadata": {
   "interpreter": {
    "hash": "7a542ca580817fc4dd55327026e074e2fa0cd470fc5dee9350c2d8b13822db8d"
   }
  },
  "interpreter": {
   "hash": "7a542ca580817fc4dd55327026e074e2fa0cd470fc5dee9350c2d8b13822db8d"
  }
 },
 "nbformat": 4,
 "nbformat_minor": 2,
 "cells": [
  {
   "cell_type": "code",
   "execution_count": 1,
   "source": [
    "RAW_DATA = r'M:\\Backup ISI402\\12X\\Qual\\Life test\\12X02\\dRdP_LRT2_260mW-2.HGA Lifecycle.dRdP-low.csv'\r\n",
    "out_path = r'M:\\Backup ISI402\\12X\\Qual\\Life test\\12X02\\dRdP_LRT2_260mW-2.HGA Lifecycle.dRdP-low.xlsx'"
   ],
   "outputs": [],
   "metadata": {}
  },
  {
   "cell_type": "code",
   "execution_count": 2,
   "source": [
    "import xlsxwriter\r\n",
    "import pandas as pd\r\n",
    "import numpy as np\r\n",
    "import matplotlib.pyplot as plt\r\n",
    "import seaborn as sns\r\n",
    "import os\r\n",
    "import openpyxl\r\n",
    "from openpyxl.chart import BarChart3D,Reference"
   ],
   "outputs": [],
   "metadata": {}
  },
  {
   "cell_type": "code",
   "execution_count": 3,
   "source": [
    "df = pd.read_csv(RAW_DATA, header=[2])\r\n",
    "#df = pd.read_csv(RAW_DATA, header=[2], sep=r\"[| ^]\", engine='python')\r\n",
    "\r\n",
    "#df = df[['Hd','Cycles','Part ID','Test Time','Test','Date','Time']]\r\n",
    "df = df.iloc[:,[0,1,4,5,6,7,16,32,44]]\r\n",
    "#cols = {0:'Time Stamp(S)',30:'Resistance (Ohms)'}\r\n",
    "#df.rename(columns=cols, inplace=True)\r\n",
    "df.columns = ['Hd','Part ID','Test Time','Test','Date','Time','TimeStamp (s)','Bias (mA)','Resistance (Ohm)']\r\n",
    "df = df.sort_values(['Hd','TimeStamp (s)'])\r\n",
    "df['TTF'] = df['TimeStamp (s)']/3600\r\n",
    "grouped_df = df.groupby(['Part ID']).first()\r\n",
    "df = pd.merge(df, grouped_df, on=['Part ID'] , suffixes=('','_REF'))\r\n",
    "#df['Resistance (Ohm)'] = df['Resistance (Ohm)'].replace(np.Infinity, 1000)\r\n",
    "df['Delta_Res(%)'] = (df['Resistance (Ohm)']/df['Resistance (Ohm)_REF'] - 1)*100\r\n",
    "df['P/F Status'] = np.where(abs(df['Delta_Res(%)'])>=20,1,0)\r\n",
    "df['P/F Status'] = df.groupby(['Hd'])['P/F Status'].cumsum()\r\n",
    "df['P/F Status'] = np.where(df['Hd']!=df['Hd'].shift(),0,np.where(df['Hd']!=df['Hd'].shift(-1),1,np.where(df['P/F Status']>0,1,0)))\r\n",
    "df['P/F_Flag'] = np.where(df['Hd']!=df['Hd'].shift(),0,np.where(df['P/F Status']!=df['P/F Status'].shift(),1,0))\r\n",
    "\r\n",
    "\r\n",
    "\r\n",
    "df['F/S'] = np.where((df['P/F_Flag']==1)&(abs(df['Delta_Res(%)'])>=20),'F','S')\r\n",
    "\r\n",
    "#df['Stress(mV)'] = df['Test'].str[14:17]\r\n",
    "df['Power (mW)'] = (df['Bias (mA)']/1000)**2*df['Resistance (Ohm)']*1000\r\n",
    "df['Selected'] = df['P/F_Flag'].shift(-1)\r\n",
    "df = df[['Hd','Part ID','Test Time','Test','Date','Time','TimeStamp (s)','Resistance (Ohm)','TTF','Resistance (Ohm)_REF','Delta_Res(%)','P/F Status','P/F_Flag','F/S','Power (mW)','Selected']]\r\n",
    "\r\n",
    "dy = df.loc[df['P/F_Flag'] == 1]\r\n",
    "table = pd.pivot_table(dy, values='Part ID', index=['F/S','TTF'], columns=[], aggfunc='count', margins=False)"
   ],
   "outputs": [],
   "metadata": {}
  },
  {
   "cell_type": "code",
   "execution_count": 4,
   "source": [
    "writer = pd.ExcelWriter(out_path, engine='xlsxwriter')\r\n",
    "df.to_excel(writer, sheet_name='ALL', index=None)\r\n",
    "table.to_excel(writer, sheet_name='SUM')\r\n",
    "dy.to_excel(writer, sheet_name='TTF')\r\n",
    "writer.save()"
   ],
   "outputs": [],
   "metadata": {}
  }
 ]
}