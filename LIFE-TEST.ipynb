{
 "metadata": {
  "language_info": {
   "codemirror_mode": {
    "name": "ipython",
    "version": 3
   },
   "file_extension": ".py",
   "mimetype": "text/x-python",
   "name": "python",
   "nbconvert_exporter": "python",
   "pygments_lexer": "ipython3",
   "version": "3.8.0"
  },
  "orig_nbformat": 2,
  "kernelspec": {
   "name": "python380jvsc74a57bd07a542ca580817fc4dd55327026e074e2fa0cd470fc5dee9350c2d8b13822db8d",
   "display_name": "Python 3.8.0 32-bit"
  },
  "metadata": {
   "interpreter": {
    "hash": "7a542ca580817fc4dd55327026e074e2fa0cd470fc5dee9350c2d8b13822db8d"
   }
  }
 },
 "nbformat": 4,
 "nbformat_minor": 2,
 "cells": [
  {
   "cell_type": "code",
   "execution_count": 1,
   "metadata": {},
   "outputs": [],
   "source": [
    "RAW_DATA = r'C:\\Users\\411792\\Desktop\\LIFE_TEST_DATA\\V6L_LTS-002700_THT3546-47-53_55C.csv'\n",
    "out_path = r'C:\\Users\\411792\\Desktop\\LIFE_TEST_DATA\\V6L_LTS-002700_THT3546-47-53_55C.xlsx'"
   ]
  },
  {
   "cell_type": "code",
   "execution_count": 2,
   "metadata": {},
   "outputs": [],
   "source": [
    "import xlsxwriter\n",
    "import pandas as pd\n",
    "import numpy as np\n",
    "import matplotlib.pyplot as plt\n",
    "import seaborn as sns\n",
    "import os\n",
    "import openpyxl\n",
    "from openpyxl.chart import BarChart3D,Reference"
   ]
  },
  {
   "cell_type": "code",
   "execution_count": 3,
   "metadata": {},
   "outputs": [],
   "source": [
    "df = pd.read_csv(RAW_DATA)\n",
    "df = df.sort_values(['Magnet','Head'])\n",
    "grouped_df = df.groupby(['Magnet','Head']).first()\n",
    "df = pd.merge(df, grouped_df, on=['Magnet','Head'] , suffixes=('','_REF'))\n",
    "df['TTF'] = np.where(df['Head']!=df['Head'].shift(),0,df['TotalStressTime'])/60\n",
    "df['PCT_CNG'] = (df['Ohms']/df['Ohms_REF'] - 1)*100\n",
    "df['P/F Status'] = np.where(abs(df['PCT_CNG'])>=20,1,0)\n",
    "df['P/F Status'] = df.groupby(['Magnet','Head'])['P/F Status'].cumsum()\n",
    "df['P/F Status'] = np.where(df['Head']!=df['Head'].shift(),0,np.where(df['Head']!=df['Head'].shift(-1),1,np.where(df['P/F Status']>0,1,0)))\n",
    "df['P/F Flag (10%)'] = np.where(df['Head']!=df['Head'].shift(),0,np.where(df['P/F Status']!=df['P/F Status'].shift(),1,0))\n",
    "df['F/S'] = np.where((df['P/F Flag (10%)']==1)&(abs(df['PCT_CNG'])>=20),'F','S')\n",
    "df['SBR'] = np.where(df['Magnet']==15,'THT3546',np.where(df['Head']==0,'THT3553',np.where(df['Head']==3,'THT3553',np.where(df['Head']==4,'THT3553',np.where(df['Head']==7,'THT3553',np.where(df['Magnet']>9,'THT3547',np.where(df['Head']==1,'THT3546',np.where(df['Magnet']==8,'THT3546','THT3547'))))))))\n",
    "df['Stress(mA)'] = np.where(df['Head']<2,67,np.where(df['Head']<4,68,np.where(df['Head']<6,69,70)))\n",
    "df['Designs'] = np.where(df['SBR']=='THT3546','LRT1.2 POR',np.where(df['SBR']=='THT3547','LRT1.2 POR','LRT2.0 M1'))\n",
    "df = df[['HeadID','MagnetTemp','Magnet','Head','Carrier','StressTimeInc','StressCurrentDC','Stress Ohms','TotalStressTime','Ohms','Ohms_REF','TTF','PCT_CNG','P/F Status','P/F Flag (10%)','F/S','SBR','Stress(mA)','Designs']]\n",
    "\n",
    "dy = df.loc[df['P/F Flag (10%)'] == 1]\n",
    "table = pd.pivot_table(dy, values='HeadID', index=['F/S','TTF'], columns=['SBR','Stress(mA)'], aggfunc='count', margins=False)"
   ]
  },
  {
   "cell_type": "code",
   "execution_count": 4,
   "metadata": {},
   "outputs": [],
   "source": [
    "writer = pd.ExcelWriter(out_path, engine='xlsxwriter')\n",
    "df.to_excel(writer, sheet_name='ALL', index=None)\n",
    "table.to_excel(writer, sheet_name='SUM')\n",
    "dy.to_excel(writer, sheet_name='TTF')\n",
    "writer.save()"
   ]
  }
 ]
}