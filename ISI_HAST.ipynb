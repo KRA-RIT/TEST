{
 "cells": [
  {
   "cell_type": "code",
   "execution_count": 451,
   "metadata": {},
   "outputs": [],
   "source": [
    "pre_folder = r'M:\\ISI result\\HGA\\LTS-03129\\PRE\\DATA.Production.1.csv'\n",
    "post_folder = r'M:\\ISI result\\HGA\\LTS-03129\\POST\\DATA.Production.1.csv'\n",
    "out_path = r'M:\\ISI result\\HGA\\LTS-03129\\ISI_HAST2.xlsx'"
   ]
  },
  {
   "cell_type": "code",
   "execution_count": 452,
   "metadata": {},
   "outputs": [],
   "source": [
    "import xlsxwriter\n",
    "import pandas as pd\n",
    "import numpy as np\n",
    "import matplotlib.pyplot as plt\n",
    "import seaborn as sns\n",
    "import os\n",
    "import openpyxl\n",
    "from openpyxl.chart import BarChart3D,Reference"
   ]
  },
  {
   "cell_type": "code",
   "execution_count": 453,
   "metadata": {},
   "outputs": [],
   "source": [
    "pre=pd.read_csv(pre_folder)\n",
    "pre['Hd&Part ID'] = pre['Hd']+pre['Part ID']\n",
    "#grouppid = pre.groupby('Hd&Part ID')\n",
    "#pre=grouppid[['Hd','Part ID','SBR','RESISTANCE','AMPLITUDE','ASYMETRY','BARK_JMP','BARK_JMP_UV','HYSTERESIS','SLOPE','SMANMAX_MAX','SMANAMP_AVG','SMANRMS_AVG','SMAN_NORM']].tail(1)"
   ]
  },
  {
   "cell_type": "code",
   "execution_count": 454,
   "metadata": {},
   "outputs": [],
   "source": [
    "prescreen = pre.loc[(pre['RESISTANCE'] < 100)|(pre['RESISTANCE'] > 1000)]\n",
    "pre = pre.loc[(pre['RESISTANCE'] > 100)&(pre['RESISTANCE'] < 1000)]"
   ]
  },
  {
   "cell_type": "code",
   "execution_count": 455,
   "metadata": {},
   "outputs": [],
   "source": [
    "post=pd.read_csv(post_folder)\n",
    "post['Hd&Part ID'] = post['Hd']+post['Part ID']\n",
    "grouppid = post.groupby('Hd&Part ID')\n",
    "post=grouppid[['Hd','Part ID','RESISTANCE','AMPLITUDE','ASYMETRY','BARK_JMP','BARK_JMP_UV','HYSTERESIS','SLOPE','SMANMAX_MAX','SMANAMP_AVG','SMANRMS_AVG','SMAN_NORM']].tail(1)"
   ]
  },
  {
   "cell_type": "code",
   "execution_count": 456,
   "metadata": {},
   "outputs": [],
   "source": [
    "pre_post = pd.merge(pre,post,how='left', on=['Hd','Part ID'] , suffixes=('_PRE','_POST'))\n",
    "pre_post = pre_post .drop(['Hd&Part ID'], axis=1)"
   ]
  },
  {
   "cell_type": "code",
   "execution_count": 457,
   "metadata": {},
   "outputs": [],
   "source": [
    "pre_post['%dMRE'] = (pre_post['RESISTANCE_POST']/pre_post['RESISTANCE_PRE'] -1)*100\n",
    "pre_post['%dAMP'] = (pre_post['AMPLITUDE_POST']/pre_post['AMPLITUDE_PRE'] -1)*100\n",
    "pre_post['%dASYM'] = pre_post['ASYMETRY_POST']-pre_post['ASYMETRY_PRE']\n",
    "pre_post['%dBJ'] = pre_post['BARK_JMP_POST']-pre_post['BARK_JMP_PRE']\n",
    "pre_post['%dSMM'] = (pre_post['SMANMAX_MAX_POST']/pre_post['SMANMAX_MAX_PRE'] -1)*100"
   ]
  },
  {
   "cell_type": "code",
   "execution_count": 458,
   "metadata": {},
   "outputs": [],
   "source": [
    "missingid = pre_post[pre_post['%dMRE'].isnull()]\n",
    "missing = pre_post.dropna(subset=['%dMRE'])\n",
    "pre_post = missing"
   ]
  },
  {
   "cell_type": "code",
   "execution_count": 459,
   "metadata": {},
   "outputs": [],
   "source": [
    "pre_post.loc[abs(pre_post['%dMRE'])>10,'DISPOSITION'] = \"RES\"\n",
    "pre_post.loc[(abs(pre_post['%dMRE'])<10)&(abs(pre_post['%dAMP'])>20),'DISPOSITION'] = \"AMP\"\n",
    "pre_post.loc[(abs(pre_post['%dMRE'])<10)&(abs(pre_post['%dAMP'])<20)&(abs(pre_post['%dASYM'])>10),'DISPOSITION'] = \"ASYM\"\n",
    "pre_post.loc[(abs(pre_post['%dMRE'])<10)&(abs(pre_post['%dAMP'])<20)&(abs(pre_post['%dASYM'])<10)&(abs(pre_post['%dBJ'])>50)&(abs(pre_post['BARK_JMP_POST'])>15),'DISPOSITION'] = \"BARK_JMP\"\n",
    "pre_post.loc[(abs(pre_post['%dMRE'])<10)&(abs(pre_post['%dAMP'])<20)&(abs(pre_post['%dASYM'])<10)&(abs(pre_post['%dBJ'])<50)&(abs(pre_post['BARK_JMP_POST'])<15)&(abs(pre_post['%dSMM'])>50)&(abs(pre_post['SMAN_NORM_POST'])>30),'DISPOSITION'] = \"SMAN\"\n",
    "pre_post.loc[(abs(pre_post['%dMRE'])<10)&(abs(pre_post['%dAMP'])<20)&(abs(pre_post['%dASYM'])<10)&(abs(pre_post['%dBJ'])<50)&(abs(pre_post['BARK_JMP_POST'])<15)&(abs(pre_post['%dSMM'])<50)&(abs(pre_post['SMAN_NORM_POST'])<30)&(pre_post['SLOPE_PRE']>0)&(pre_post['SLOPE_POST']>0),'DISPOSITION'] = \"SLOPE\""
   ]
  },
  {
   "cell_type": "code",
   "execution_count": 460,
   "metadata": {},
   "outputs": [],
   "source": [
    "pre_post[\"DISPOSITION\"].fillna(\"NORMAL\", inplace = True)"
   ]
  },
  {
   "cell_type": "code",
   "execution_count": 461,
   "metadata": {},
   "outputs": [],
   "source": [
    "table = pd.pivot_table(pre_post, values='Part ID', index=['SBR'], columns=['DISPOSITION'], aggfunc='count', margins=False)"
   ]
  },
  {
   "cell_type": "code",
   "execution_count": 462,
   "metadata": {},
   "outputs": [],
   "source": [
    "table['SAMPLE'] = table.sum(axis = 1)\n",
    "table['%FAIL_RATE'] = (table['SAMPLE']-table['NORMAL'])/table['SAMPLE']*100"
   ]
  },
  {
   "cell_type": "code",
   "execution_count": 463,
   "metadata": {},
   "outputs": [],
   "source": [
    "PRE_SUM = pre.groupby(['SBR','Hd']).agg({'RESISTANCE': ['count','mean','std'],'AMPLITUDE': ['mean','std'],'ASYMETRY': ['mean','std'],'BARK_JMP': ['mean','std'],'HYSTERESIS': ['mean','std'],'SLOPE': ['mean','std'],'SMANMAX_MAX': ['mean','std'],'SMANAMP_AVG': ['mean','std'],'SMANRMS_AVG': ['mean','std'],'SMAN_NORM': ['mean','std']})\n"
   ]
  },
  {
   "cell_type": "code",
   "execution_count": 464,
   "metadata": {},
   "outputs": [],
   "source": [
    "PRE_SUM = pd.DataFrame(PRE_SUM)\n",
    "PRE_SUM = PRE_SUM.T"
   ]
  },
  {
   "cell_type": "code",
   "execution_count": 465,
   "metadata": {},
   "outputs": [],
   "source": [
    "writer = pd.ExcelWriter(out_path, engine='xlsxwriter')"
   ]
  },
  {
   "cell_type": "code",
   "execution_count": 466,
   "metadata": {},
   "outputs": [],
   "source": [
    "pre_post.to_excel(writer, sheet_name='ALL', index=None)\n",
    "prescreen.to_excel(writer, sheet_name='PRE_SCREENING')\n",
    "PRE_SUM.to_excel(writer, sheet_name='PRELIM')\n",
    "missingid.to_excel(writer, sheet_name='MISSING_DATA')\n",
    "table.to_excel(writer, sheet_name='FAIL_RATE')"
   ]
  },
  {
   "cell_type": "code",
   "execution_count": 467,
   "metadata": {},
   "outputs": [],
   "source": [
    "writer.save()"
   ]
  }
 ],
 "metadata": {
  "language_info": {
   "codemirror_mode": {
    "name": "ipython",
    "version": 3
   },
   "file_extension": ".py",
   "mimetype": "text/x-python",
   "name": "python",
   "nbconvert_exporter": "python",
   "pygments_lexer": "ipython3",
   "version": "3.8.0-final"
  },
  "orig_nbformat": 2,
  "kernelspec": {
   "name": "python380jvsc74a57bd07a542ca580817fc4dd55327026e074e2fa0cd470fc5dee9350c2d8b13822db8d",
   "display_name": "Python 3.8.0 32-bit"
  },
  "metadata": {
   "interpreter": {
    "hash": "7a542ca580817fc4dd55327026e074e2fa0cd470fc5dee9350c2d8b13822db8d"
   }
  }
 },
 "nbformat": 4,
 "nbformat_minor": 2
}