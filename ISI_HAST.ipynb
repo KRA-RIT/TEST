{
 "cells": [
  {
   "cell_type": "code",
   "execution_count": null,
   "metadata": {},
   "outputs": [],
   "source": [
    "pre_folder = r'M:\\mDVL\\Users\\HGA\\LTS-01966\\PRE\\*Production.1.csv'\n",
    "post_folder = r'M:\\mDVL\\Users\\HGA\\LTS-01966\\Post\\*Production.1.csv'\n",
    "out_path = r'M:\\mDVL\\Users\\HGA\\LTS-01966\\ISI_HAST.xlsx'"
   ]
  },
  {
   "cell_type": "code",
   "execution_count": null,
   "metadata": {},
   "outputs": [],
   "source": [
    "import xlsxwriter\n",
    "import pandas as pd\n",
    "import numpy as np\n",
    "import matplotlib.pyplot as plt\n",
    "import seaborn as sns\n",
    "import os\n",
    "import openpyxl\n",
    "from openpyxl.chart import BarChart3D,Reference"
   ]
  },
  {
   "cell_type": "code",
   "execution_count": null,
   "metadata": {},
   "outputs": [],
   "source": [
    "def res(pre,post):\n",
    "    pchange = (((post-pre)*100)/pre)\n",
    "    return(pchange)\n",
    "\n",
    "def amp(pre,post):\n",
    "    pchange = (((post-pre)*100)/pre)\n",
    "    return(pchange)\n",
    "\n",
    "def asym(pre,post):\n",
    "    pchange = (post-pre)\n",
    "    return(pchange)\n",
    "\n",
    "def bj(pre,post):\n",
    "    pchange = (post-pre)\n",
    "    return(pchange)\n",
    "\n",
    "def bju(pre,post):\n",
    "    pchange = (((post-pre)*100)/pre)\n",
    "    return(pchange)\n",
    "\n",
    "def hys(pre,post):\n",
    "    pchange = (post-pre)\n",
    "    return(pchange)\n",
    "\n",
    "def slp(pre,post):\n",
    "    pchange = (((post-pre)*100)/pre)\n",
    "    return(pchange)\n",
    "\n",
    "def smm(pre,post):\n",
    "    pchange = (((post-pre)*100)/pre)\n",
    "    return(pchange)\n",
    "\n",
    "def sma(pre,post):\n",
    "    pchange = (((post-pre)*100)/pre)\n",
    "    return(pchange)\n",
    "\n",
    "def smr(pre,post):\n",
    "    pchange = (((post-pre)*100)/pre)\n",
    "    return(pchange)\n",
    "\n",
    "def smn(pre,post):\n",
    "    pchange = (post-pre)\n",
    "    return(pchange)"
   ]
  },
  {
   "cell_type": "code",
   "execution_count": null,
   "metadata": {},
   "outputs": [],
   "source": [
    "pre=pd.read_csv(pre_folder)\n",
    "pre['Hd&Part ID'] = pre['Hd']+pre['Part ID']\n",
    "#grouppid = pre.groupby('Hd&Part ID')\n",
    "#pre=grouppid[['Hd','Part ID','SBR','RESISTANCE','AMPLITUDE','ASYMETRY','BARK_JMP','BARK_JMP_UV','HYSTERESIS','SLOPE','SMANMAX_MAX','SMANAMP_AVG','SMANRMS_AVG','SMAN_NORM']].tail(1)"
   ]
  },
  {
   "cell_type": "code",
   "execution_count": null,
   "metadata": {},
   "outputs": [],
   "source": [
    "prescreen = pre.loc[(pre['RESISTANCE'] < 100)|(pre['RESISTANCE'] > 1000)]\n",
    "pre = pre.loc[(pre['RESISTANCE'] > 100)&(pre['RESISTANCE'] < 1000)]"
   ]
  },
  {
   "cell_type": "code",
   "execution_count": null,
   "metadata": {},
   "outputs": [],
   "source": [
    "post=pd.read_csv(post_folder)\n",
    "post['Hd&Part ID'] = post['Hd']+post['Part ID']\n",
    "grouppid = post.groupby('Hd&Part ID')\n",
    "post=grouppid[['Hd','Part ID','RESISTANCE','AMPLITUDE','ASYMETRY','BARK_JMP','BARK_JMP_UV','HYSTERESIS','SLOPE','SMANMAX_MAX','SMANAMP_AVG','SMANRMS_AVG','SMAN_NORM']].tail(1)"
   ]
  },
  {
   "cell_type": "code",
   "execution_count": null,
   "metadata": {},
   "outputs": [],
   "source": [
    "pre_post = pd.merge(pre,post,how='left', on=['Hd','Part ID'])"
   ]
  },
  {
   "cell_type": "code",
   "execution_count": null,
   "metadata": {},
   "outputs": [],
   "source": [
    "pre_post['%dMRE'] = res(pre_post.RESISTANCE_x,pre_post.RESISTANCE_y)\n",
    "pre_post['%dAMP'] = amp(pre_post.AMPLITUDE_x, pre_post.AMPLITUDE_y)\n",
    "pre_post['%dASYM'] = asym(pre_post.ASYMETRY_x, pre_post.ASYMETRY_y)\n",
    "pre_post['%dBJ'] = bj(pre_post.BARK_JMP_x, pre_post.BARK_JMP_y)\n",
    "pre_post['%dBJU'] = bju(pre_post.BARK_JMP_UV_x, pre_post.BARK_JMP_UV_y)\n",
    "pre_post['%dHYS'] = hys(pre_post.HYSTERESIS_x, pre_post.HYSTERESIS_y)\n",
    "pre_post['%dSLP'] = slp(pre_post.SLOPE_x, pre_post.SLOPE_y)\n",
    "pre_post['%dSMM'] = smm(pre_post.SMANMAX_MAX_x, pre_post.SMANMAX_MAX_y)\n",
    "pre_post['%dSMA'] = sma(pre_post.SMANAMP_AVG_x, pre_post.SMANAMP_AVG_y)\n",
    "pre_post['%dSMR'] = smr(pre_post.SMANRMS_AVG_x, pre_post.SMANRMS_AVG_y)\n",
    "pre_post['%dSMN'] = smn(pre_post.SMAN_NORM_x, pre_post.SMAN_NORM_y)"
   ]
  },
  {
   "cell_type": "code",
   "execution_count": null,
   "metadata": {},
   "outputs": [],
   "source": [
    "missingid = pre_post[pre_post['%dMRE'].isnull()]\n",
    "missing = pre_post.dropna(subset=['%dMRE'])\n",
    "pre_post = missing"
   ]
  },
  {
   "cell_type": "code",
   "execution_count": null,
   "metadata": {},
   "outputs": [],
   "source": [
    "pre_post.loc[abs(pre_post['%dMRE'])>10,'DISPOSITION'] = \"RES\"\n",
    "pre_post.loc[(abs(pre_post['%dMRE'])<10)&(abs(pre_post['%dAMP'])>20),'DISPOSITION'] = \"AMP\"\n",
    "pre_post.loc[(abs(pre_post['%dMRE'])<10)&(abs(pre_post['%dAMP'])<20)&(abs(pre_post['%dASYM'])>10),'DISPOSITION'] = \"ASYM\"\n",
    "pre_post.loc[(abs(pre_post['%dMRE'])<10)&(abs(pre_post['%dAMP'])<20)&(abs(pre_post['%dASYM'])<10)&(abs(pre_post['%dBJ'])>50)&(abs(pre_post['BARK_JMP_y'])>15),'DISPOSITION'] = \"BARK_JMP\"\n",
    "pre_post.loc[(abs(pre_post['%dMRE'])<10)&(abs(pre_post['%dAMP'])<20)&(abs(pre_post['%dASYM'])<10)&(abs(pre_post['%dBJ'])<50)&(abs(pre_post['BARK_JMP_y'])<15)&(abs(pre_post['%dSMM'])>50)&(abs(pre_post['SMAN_NORM_y'])>30),'DISPOSITION'] = \"SMAN\"\n",
    "pre_post.loc[(abs(pre_post['%dMRE'])<10)&(abs(pre_post['%dAMP'])<20)&(abs(pre_post['%dASYM'])<10)&(abs(pre_post['%dBJ'])<50)&(abs(pre_post['BARK_JMP_y'])<15)&(abs(pre_post['%dSMM'])<50)&(abs(pre_post['SMAN_NORM_y'])<30)&(pre_post['SLOPE_x']>0)&(pre_post['SLOPE_y']>0),'DISPOSITION'] = \"SLOPE\""
   ]
  },
  {
   "cell_type": "code",
   "execution_count": null,
   "metadata": {},
   "outputs": [],
   "source": [
    "pre_post[\"DISPOSITION\"].fillna(\"NORMAL\", inplace = True)"
   ]
  },
  {
   "cell_type": "code",
   "execution_count": null,
   "metadata": {},
   "outputs": [],
   "source": [
    "table = pd.pivot_table(pre_post, values='Part ID', index=['SBR'], columns=['DISPOSITION'], aggfunc='count', margins=False)"
   ]
  },
  {
   "cell_type": "code",
   "execution_count": null,
   "metadata": {},
   "outputs": [],
   "source": [
    "table['SAMPLE'] = table.sum(axis = 1)\n",
    "table['%FAIL_RATE'] = (table['SAMPLE']-table['NORMAL'])/table['SAMPLE']*100"
   ]
  },
  {
   "cell_type": "code",
   "execution_count": null,
   "metadata": {},
   "outputs": [],
   "source": [
    "PRE_SUM = pre.groupby(['SBR','Hd']).agg({'RESISTANCE': ['count','mean','std'],'AMPLITUDE': ['mean','std'],'ASYMETRY': ['mean','std'],'BARK_JMP': ['mean','std'],'HYSTERESIS': ['mean','std'],'SLOPE': ['mean','std'],'SMANMAX_MAX': ['mean','std'],'SMANAMP_AVG': ['mean','std'],'SMANRMS_AVG': ['mean','std'],'SMAN_NORM': ['mean','std']})\n"
   ]
  },
  {
   "cell_type": "code",
   "execution_count": null,
   "metadata": {},
   "outputs": [],
   "source": [
    "PRE_SUM = pd.DataFrame(PRE_SUM)\n",
    "PRE_SUM = PRE_SUM.T"
   ]
  },
  {
   "cell_type": "code",
   "execution_count": null,
   "metadata": {},
   "outputs": [],
   "source": [
    "writer = pd.ExcelWriter(out_path, engine='xlsxwriter')"
   ]
  },
  {
   "cell_type": "code",
   "execution_count": null,
   "metadata": {},
   "outputs": [],
   "source": [
    "pre_post.to_excel(writer, sheet_name='ALL', index=None)\n",
    "prescreen.to_excel(writer, sheet_name='PRE_SCREENING')\n",
    "PRE_SUM.to_excel(writer, sheet_name='PRELIM')\n",
    "missingid.to_excel(writer, sheet_name='MISSING_DATA')\n",
    "table.to_excel(writer, sheet_name='FAIL_RATE')"
   ]
  },
  {
   "cell_type": "code",
   "execution_count": null,
   "metadata": {},
   "outputs": [],
   "source": [
    "writer.save()"
   ]
  },
  {
   "cell_type": "code",
   "execution_count": null,
   "metadata": {},
   "outputs": [],
   "source": [
    "corr = sns.lmplot( x=\"RESISTANCE_x\", y=\"RESISTANCE_y\", data=pre_post, fit_reg=False, hue='SBR', legend=True)\n"
   ]
  }
 ],
 "metadata": {
  "language_info": {
   "codemirror_mode": {
    "name": "ipython",
    "version": 3
   },
   "file_extension": ".py",
   "mimetype": "text/x-python",
   "name": "python",
   "nbconvert_exporter": "python",
   "pygments_lexer": "ipython3",
   "version": "3.8.5-final"
  },
  "orig_nbformat": 2,
  "kernelspec": {
   "name": "python3",
   "display_name": "Python 3"
  }
 },
 "nbformat": 4,
 "nbformat_minor": 2
}