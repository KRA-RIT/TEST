{
 "metadata": {
  "language_info": {
   "codemirror_mode": {
    "name": "ipython",
    "version": 3
   },
   "file_extension": ".py",
   "mimetype": "text/x-python",
   "name": "python",
   "nbconvert_exporter": "python",
   "pygments_lexer": "ipython3",
   "version": "3.8.5-final"
  },
  "orig_nbformat": 2,
  "kernelspec": {
   "name": "python3",
   "display_name": "Python 3"
  }
 },
 "nbformat": 4,
 "nbformat_minor": 2,
 "cells": [
  {
   "cell_type": "code",
   "execution_count": 10,
   "metadata": {},
   "outputs": [],
   "source": [
    "import filecmp\n",
    "import csv\n",
    "import xlsxwriter\n",
    "import pandas as pd\n",
    "\n",
    "path1 = r'M:\\ISI result\\DRIVE\\MDVL_RO-01617_PRE'\n",
    "path2 = r'I:\\ISI\\MDVL_RO-01617_PRE'\n",
    "\n",
    "c = filecmp.dircmp(path1, path2)"
   ]
  },
  {
   "cell_type": "code",
   "execution_count": 11,
   "metadata": {},
   "outputs": [],
   "source": [
    "def report_recursive(dcmp):\n",
    "    for name in dcmp.diff_files:\n",
    "        print(\"DIFF file %s found in %s and %s\" % (name, \n",
    "            dcmp.left, dcmp.right))\n",
    "    for name in dcmp.left_only:\n",
    "        print(\"ONLY LEFT file %s found in %s\" % (name, dcmp.left))\n",
    "    for name in dcmp.right_only:\n",
    "        print(\"ONLY RIGHT file %s found in %s\" % (name, dcmp.right))\n",
    "    for sub_dcmp in dcmp.subdirs.values():\n",
    "        print_diff_files(sub_dcmp)"
   ]
  },
  {
   "cell_type": "code",
   "execution_count": 12,
   "metadata": {
    "tags": []
   },
   "outputs": [
    {
     "output_type": "error",
     "ename": "NameError",
     "evalue": "name 'print_diff_files' is not defined",
     "traceback": [
      "\u001b[1;31m---------------------------------------------------------------------------\u001b[0m",
      "\u001b[1;31mNameError\u001b[0m                                 Traceback (most recent call last)",
      "\u001b[1;32m<ipython-input-12-4c51822f5efc>\u001b[0m in \u001b[0;36m<module>\u001b[1;34m\u001b[0m\n\u001b[1;32m----> 1\u001b[1;33m \u001b[0mreport_recursive\u001b[0m\u001b[1;33m(\u001b[0m\u001b[0mc\u001b[0m\u001b[1;33m)\u001b[0m\u001b[1;33m\u001b[0m\u001b[1;33m\u001b[0m\u001b[0m\n\u001b[0m",
      "\u001b[1;32m<ipython-input-11-b3be6cb6b7e8>\u001b[0m in \u001b[0;36mreport_recursive\u001b[1;34m(dcmp)\u001b[0m\n\u001b[0;32m      8\u001b[0m         \u001b[0mprint\u001b[0m\u001b[1;33m(\u001b[0m\u001b[1;34m\"ONLY RIGHT file %s found in %s\"\u001b[0m \u001b[1;33m%\u001b[0m \u001b[1;33m(\u001b[0m\u001b[0mname\u001b[0m\u001b[1;33m,\u001b[0m \u001b[0mdcmp\u001b[0m\u001b[1;33m.\u001b[0m\u001b[0mright\u001b[0m\u001b[1;33m)\u001b[0m\u001b[1;33m)\u001b[0m\u001b[1;33m\u001b[0m\u001b[1;33m\u001b[0m\u001b[0m\n\u001b[0;32m      9\u001b[0m     \u001b[1;32mfor\u001b[0m \u001b[0msub_dcmp\u001b[0m \u001b[1;32min\u001b[0m \u001b[0mdcmp\u001b[0m\u001b[1;33m.\u001b[0m\u001b[0msubdirs\u001b[0m\u001b[1;33m.\u001b[0m\u001b[0mvalues\u001b[0m\u001b[1;33m(\u001b[0m\u001b[1;33m)\u001b[0m\u001b[1;33m:\u001b[0m\u001b[1;33m\u001b[0m\u001b[1;33m\u001b[0m\u001b[0m\n\u001b[1;32m---> 10\u001b[1;33m         \u001b[0mprint_diff_files\u001b[0m\u001b[1;33m(\u001b[0m\u001b[0msub_dcmp\u001b[0m\u001b[1;33m)\u001b[0m\u001b[1;33m\u001b[0m\u001b[1;33m\u001b[0m\u001b[0m\n\u001b[0m",
      "\u001b[1;31mNameError\u001b[0m: name 'print_diff_files' is not defined"
     ]
    }
   ],
   "source": [
    "report_recursive(c)"
   ]
  }
 ]
}