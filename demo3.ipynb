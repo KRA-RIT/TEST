{
 "metadata": {
  "language_info": {
   "codemirror_mode": {
    "name": "ipython",
    "version": 3
   },
   "file_extension": ".py",
   "mimetype": "text/x-python",
   "name": "python",
   "nbconvert_exporter": "python",
   "pygments_lexer": "ipython3",
   "version": "3.8.5-final"
  },
  "orig_nbformat": 2,
  "kernelspec": {
   "name": "python3",
   "display_name": "Python 3"
  }
 },
 "nbformat": 4,
 "nbformat_minor": 2,
 "cells": [
  {
   "cell_type": "code",
   "execution_count": 11,
   "metadata": {},
   "outputs": [],
   "source": [
    "folder = r'M:\\mDVL\\Users\\HGA\\LTS-01966\\PRE\\1.csv'"
   ]
  },
  {
   "cell_type": "code",
   "execution_count": 14,
   "metadata": {},
   "outputs": [],
   "source": [
    "import csv"
   ]
  },
  {
   "cell_type": "code",
   "execution_count": 13,
   "metadata": {},
   "outputs": [],
   "source": [
    "class EmptyString(int):\n",
    "    def __str__(self):\n",
    "        return ''\n",
    "EmptyString = EmptyString()\n",
    "\n",
    "def replace_none_with_emptystring(row):\n",
    "  return [\n",
    "    val if val is not None else EmptyString\n",
    "    for val in row\n",
    "  ]\n",
    "\n",
    "with open(folder, 'w') as csvfile:\n",
    "    spamwriter = csv.writer(csvfile, quoting=csv.QUOTE_NONNUMERIC)\n",
    "    spamwriter.writerow(replace_none_with_emptystring([Hd,Part ID,Comments,Spec ID,Time,Date,SBR,RESISTANCE,AMPLITUDE,ASYMETRY,BARK_JMP,BARK_JMP_UV,HYSTERESIS,SLOPE,SMANAMP_AVG,SMANRMS_AVG,SMANMAX_MAX,SMAN_NORM,HEATER,TA_RESISTANCE]))"
   ]
  }
 ]
}