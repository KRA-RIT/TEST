{
 "metadata": {
  "language_info": {
   "codemirror_mode": {
    "name": "ipython",
    "version": 3
   },
   "file_extension": ".py",
   "mimetype": "text/x-python",
   "name": "python",
   "nbconvert_exporter": "python",
   "pygments_lexer": "ipython3",
   "version": "3.8.5-final"
  },
  "orig_nbformat": 2,
  "kernelspec": {
   "name": "python3",
   "display_name": "Python 3.8.5 64-bit (conda)",
   "metadata": {
    "interpreter": {
     "hash": "97ae724bfa85b9b34df7982b8bb8c7216f435b92902d749e4263f71162bea840"
    }
   }
  }
 },
 "nbformat": 4,
 "nbformat_minor": 2,
 "cells": [
  {
   "cell_type": "code",
   "execution_count": 355,
   "metadata": {},
   "outputs": [],
   "source": [
    "RAW_DATA = r'C:\\Users\\411792\\Desktop\\LIFE_TEST_DATA\\AAA.csv'\n",
    "out_path = r'C:\\Users\\411792\\Desktop\\LIFE_TEST_DATA\\520mV.HGA Lifecycle.520mV9999999999.xlsx'"
   ]
  },
  {
   "cell_type": "code",
   "execution_count": 356,
   "metadata": {},
   "outputs": [],
   "source": [
    "import xlsxwriter\n",
    "import pandas as pd\n",
    "import numpy as np\n",
    "import matplotlib.pyplot as plt\n",
    "import seaborn as sns\n",
    "import os\n",
    "import openpyxl\n",
    "from openpyxl.chart import BarChart3D,Reference"
   ]
  },
  {
   "cell_type": "code",
   "execution_count": 357,
   "metadata": {},
   "outputs": [],
   "source": [
    "def disp(var1,var2,var3,var4):\n",
    "    cal = np.where(var1!=var2,0,np.where(var1!=var3,1,np.where(abs(var4)>=20,1,0)))\n",
    "    return(cal)\n",
    "\n",
    "def disp1(var1,var2,var3,var4):\n",
    "    cal = np.where(var1!=var2,0,np.where(var3!=var4,1,0))\n",
    "    return(cal)\n",
    "\n",
    "def disp2(var1,var2):\n",
    "    #cald = (abs(var2)>=20) & (var1 == 1)\n",
    "    cal = np.where((abs(var2)>=20) & (var1 == 1),'F','S')\n",
    "    return(cal)"
   ]
  },
  {
   "cell_type": "code",
   "execution_count": 358,
   "metadata": {},
   "outputs": [],
   "source": [
    "df = pd.read_csv(RAW_DATA, header=[2])\n",
    "#df = pd.read_csv(RAW_DATA, header=[2], sep=r\"[| ^]\", engine='python')\n",
    "\n",
    "#df = df[['Hd','Cycles','Part ID','Test Time','Test','Date','Time']]\n",
    "df = df.iloc[:,[0,1,4,5,6,7,26,30]]\n",
    "#cols = {0:'Time Stamp(S)',30:'Resistance (Ohms)'}\n",
    "#df.rename(columns=cols, inplace=True)\n",
    "df.columns = ['Hd','Part ID','Test Time','Test','Date','Time','TimeStamp (s)','Resistance (Ohm)']\n",
    "df = df.sort_values(['Hd','Date','Time'])\n",
    "df['Total Stress-Hrs'] = np.where(df['Hd']!=df['Hd'].shift(),0,df['TimeStamp (s)'])/3600\n",
    "grouped_df = df.groupby(['Part ID']).first()\n",
    "df = pd.merge(df, grouped_df, on=['Part ID'] , suffixes=('','_REF'))\n",
    "df['Delta_Res(%)'] = (df['Resistance (Ohm)']/df['Resistance (Ohm)_REF'] - 1)*100\n",
    "df['P/F_Status'] = disp(df['Part ID'],df['Part ID'].shift(),df['Part ID'].shift(-1),df['Delta_Res(%)'])\n",
    "df['P/F_Flag'] = disp1(df['Part ID'],df['Part ID'].shift(),df['P/F_Status'],df['P/F_Status'].shift())\n",
    "df['F/S'] = disp2(df['P/F_Flag'],df['Delta_Res(%)'])\n",
    "df['Stress(mV)'] = df['Test'].str[14:17]\n",
    "df = df[['Hd','Part ID','Test Time','Test','Date','Time','TimeStamp (s)','Resistance (Ohm)','Total Stress-Hrs','Resistance (Ohm)_REF','Delta_Res(%)','P/F_Status','P/F_Flag','F/S','Stress(mV)']]\n",
    "\n",
    "dy = df.loc[df['P/F_Flag'] == 1]\n",
    "table = pd.pivot_table(dy, values='Part ID', index=['F/S','Total Stress-Hrs'], columns=[], aggfunc='count', margins=False)"
   ]
  },
  {
   "cell_type": "code",
   "execution_count": 359,
   "metadata": {},
   "outputs": [],
   "source": [
    "writer = pd.ExcelWriter(out_path, engine='xlsxwriter')\n",
    "df.to_excel(writer, sheet_name='ALL', index=None)\n",
    "table.to_excel(writer, sheet_name='SUM')\n",
    "dy.to_excel(writer, sheet_name='TTF')\n",
    "writer.save()"
   ]
  }
 ]
}